{
 "cells": [
  {
   "cell_type": "code",
   "execution_count": 39,
   "metadata": {},
   "outputs": [],
   "source": [
    "import numpy as np\n",
    "import os\n",
    "import torch\n",
    "import torch.nn.functional as F\n",
    "import torchvision.transforms.functional as TF\n",
    "import matplotlib.pyplot as plt\n",
    "from torch import nn\n",
    "import cv2 as cv\n",
    "from torch.utils.data import Dataset, DataLoader\n",
    "from torchvision import transforms\n",
    "from torch.utils.data import random_split\n",
    "from tqdm.auto import tqdm\n",
    "import imageio\n",
    "import torchvision.transforms as T\n",
    "from torch.utils.tensorboard import SummaryWriter "
   ]
  },
  {
   "cell_type": "code",
   "execution_count": 40,
   "metadata": {},
   "outputs": [],
   "source": [
    "class DoubleConv(nn.Module):\n",
    "    def __init__(self, in_channels, out_channels):\n",
    "        super(DoubleConv, self).__init__()\n",
    "        self.block=nn.Sequential(\n",
    "            nn.Conv2d(in_channels,out_channels,kernel_size=3,stride=1,padding=1,bias=False),\n",
    "            nn.BatchNorm2d(out_channels),\n",
    "            nn.ReLU(inplace=True),\n",
    "            nn.Conv2d(out_channels,out_channels,kernel_size=3,stride=1,padding=1,bias=False),\n",
    "            nn.BatchNorm2d(out_channels),\n",
    "            nn.ReLU(inplace=True)\n",
    "        )\n",
    "    def forward(self,x):\n",
    "        return self.block(x)"
   ]
  },
  {
   "cell_type": "code",
   "execution_count": 41,
   "metadata": {},
   "outputs": [],
   "source": [
    "def copy_and_crop(down_1layer,up_1layer):\n",
    "    b,ch,h,w=up_1layer.shape\n",
    "    crop=T.CenterCrop((h,w))(down_1layer)\n",
    "    return crop"
   ]
  },
  {
   "cell_type": "code",
   "execution_count": 42,
   "metadata": {},
   "outputs": [],
   "source": [
    "class Unet(nn.Module):\n",
    "    def __init__(self, in_channels, out_channels):\n",
    "        super(Unet,self).__init__()\n",
    "\n",
    "        self.encoder=nn.ModuleList([\n",
    "            DoubleConv(in_channels,64),\n",
    "            DoubleConv(64,128),\n",
    "            DoubleConv(128,256),\n",
    "            DoubleConv(256,512)\n",
    "        ])\n",
    "        self.pool=nn.MaxPool2d(kernel_size=2,stride=2)\n",
    "        self.bottle_neck=DoubleConv(512,1024)\n",
    "\n",
    "        self.up_samples=nn.ModuleList([\n",
    "            nn.ConvTranspose2d(1024,512,kernel_size=2,stride=2),\n",
    "            nn.ConvTranspose2d(512,256,kernel_size=2,stride=2),\n",
    "            nn.ConvTranspose2d(256,128,kernel_size=2,stride=2),\n",
    "            nn.ConvTranspose2d(128,64,kernel_size=2,stride=2)\n",
    "        ])\n",
    "        self.decoder=nn.ModuleList([\n",
    "            DoubleConv(1024,512),\n",
    "            DoubleConv(512,256),\n",
    "            DoubleConv(256,128),\n",
    "            DoubleConv(128,64)\n",
    "        ])\n",
    "        self.final_1layer=nn.Conv2d(64,out_channels,kernel_size=1,stride=1)\n",
    "    \n",
    "    \n",
    "    def forward(self,x):\n",
    "        skip_connections=[]\n",
    "\n",
    "        for layer in self.encoder:\n",
    "            x=layer(x)\n",
    "            skip_connections.append(x)\n",
    "            x=self.pool(x)\n",
    "            \n",
    "        x=self.bottle_neck(x)\n",
    "\n",
    "        for ind,layer in enumerate(self.decoder):\n",
    "            x=self.up_samples[ind](x)\n",
    "            y=copy_and_crop(skip_connections.pop(),x)\n",
    "            x=layer(torch.cat([y,x],dim=1))\n",
    "        x=self.final_1layer(x)\n",
    "\n",
    "        return x\n"
   ]
  },
  {
   "cell_type": "code",
   "execution_count": 43,
   "metadata": {},
   "outputs": [],
   "source": [
    "model=Unet(1,1)\n"
   ]
  },
  {
   "cell_type": "code",
   "execution_count": 44,
   "metadata": {},
   "outputs": [],
   "source": [
    "pics=torch.rand(1,1,256,256)\n",
    "output=model(pics)"
   ]
  }
 ],
 "metadata": {
  "kernelspec": {
   "display_name": "Python 3",
   "language": "python",
   "name": "python3"
  },
  "language_info": {
   "codemirror_mode": {
    "name": "ipython",
    "version": 3
   },
   "file_extension": ".py",
   "mimetype": "text/x-python",
   "name": "python",
   "nbconvert_exporter": "python",
   "pygments_lexer": "ipython3",
   "version": "3.8.10"
  }
 },
 "nbformat": 4,
 "nbformat_minor": 2
}
